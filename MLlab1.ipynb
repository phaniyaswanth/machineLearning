{
  "nbformat": 4,
  "nbformat_minor": 0,
  "metadata": {
    "colab": {
      "provenance": []
    },
    "kernelspec": {
      "name": "python3",
      "display_name": "Python 3"
    },
    "language_info": {
      "name": "python"
    }
  },
  "cells": [
    {
      "cell_type": "code",
      "source": [],
      "metadata": {
        "id": "407r9TutsEOu"
      },
      "execution_count": null,
      "outputs": []
    },
    {
      "cell_type": "code",
      "execution_count": 6,
      "metadata": {
        "colab": {
          "base_uri": "https://localhost:8080/"
        },
        "id": "Ug16sMfDpTC2",
        "outputId": "da176c74-6896-4cd4-a7c8-f7511f32dc4d"
      },
      "outputs": [
        {
          "output_type": "stream",
          "name": "stdout",
          "text": [
            "enter any string ougbolb\n",
            "the vowels are 3\n",
            "the consonents are 4\n"
          ]
        }
      ],
      "source": [
        "s=input(\"enter any string \")\n",
        "n=len(s)\n",
        "count1=0\n",
        "count2=0\n",
        "for i in range(n):\n",
        "    if s[i]==\"a\":\n",
        "        count1+=1\n",
        "        i+=1\n",
        "    elif s[i]==\"e\":\n",
        "        count1+=1\n",
        "        i+=1\n",
        "    elif s[i]==\"i\":\n",
        "        count1+=1\n",
        "        i+=1\n",
        "    elif s[i]==\"o\":\n",
        "        count1+=1\n",
        "        i+=1\n",
        "    elif s[i]==\"u\":\n",
        "        count1+=1\n",
        "        i+=1\n",
        "    else:\n",
        "        count2+=1\n",
        "        i+=1\n",
        "print(\"the vowels are\",count1)\n",
        "print(\"the consonents are\",count2)"
      ]
    },
    {
      "cell_type": "code",
      "source": [
        "def qn3(list1 , list2):\n",
        "  n1=len(list1)\n",
        "  n2=len(list2)\n",
        "  common=[]\n",
        "  for i in list1:\n",
        "    if i in list2:\n",
        "      common.append(i)\n",
        "  print(common)\n",
        "\n",
        "list1=[]\n",
        "list2=[]\n",
        "n1=int(input(\"enter number of elements in first list \\n\"))\n",
        "n2=int(input(\"enter number of elements in second list \\n\"))\n",
        "for i in range(n1):\n",
        "  list1.append(int(input()))\n",
        "for i in range(n2):\n",
        "  list2.append(int(input()))\n",
        "qn3(list1 , list2)\n",
        "\n"
      ],
      "metadata": {
        "colab": {
          "base_uri": "https://localhost:8080/"
        },
        "id": "AODBjxulsOzc",
        "outputId": "0b7d66d1-4bd7-4283-ae16-175044384c5d"
      },
      "execution_count": 12,
      "outputs": [
        {
          "output_type": "stream",
          "name": "stdout",
          "text": [
            "enter number of elements in first list \n",
            "2\n",
            "enter number of elements in second list \n",
            "3\n",
            "1\n",
            "2\n",
            "3\n",
            "1\n",
            "4\n",
            "[1]\n"
          ]
        }
      ]
    },
    {
      "cell_type": "code",
      "source": [],
      "metadata": {
        "id": "z4CHKplNv7K9"
      },
      "execution_count": null,
      "outputs": []
    },
    {
      "cell_type": "code",
      "source": [
        "\n",
        "def qn2(matrix1 , matrix2):\n",
        "\n",
        "  row1=len(matrix1)\n",
        "  col1=len(matrix1[0])\n",
        "  row2=len(matrix2)\n",
        "  col2=len(matrix2[0])\n",
        "\n",
        "  product=[]\n",
        "  for i in range(row1):\n",
        "    row=[]\n",
        "    for j in range(col2):\n",
        "      row.append(0)\n",
        "    product.append(row)\n",
        "\n",
        "  for i in range(row1):\n",
        "    for j in range(col2):\n",
        "      for k in range(col1):\n",
        "        product[i][j]=product[i][j]+(matrix1[i][k]*matrix2[k][j])\n",
        "  print(product)\n",
        "\n",
        "\n",
        "\n",
        "row1=int(input(\"enter number of rows of first matrix \\n\"))\n",
        "col1=int(input(\"enter number of columns of first matrix \\n\"))\n",
        "row2=int(input(\"enter number of rows of second matrix \\n\"))\n",
        "col2=int(input(\"enter number of columns of second matrix \\n\"))\n",
        "if row2==col1:\n",
        "\n",
        "  matrix1=[]\n",
        "  for i in range(row1):\n",
        "    row=[]\n",
        "    for j in range(col1):\n",
        "      row.append(int(input()))\n",
        "    matrix1.append(row)\n",
        "\n",
        "  matrix2=[]\n",
        "  for i in range(row2):\n",
        "    row=[]\n",
        "    for j in range(col2):\n",
        "      row.append(int(input()))\n",
        "    matrix2.append(row)\n",
        "  qn2(matrix1 , matrix2)\n",
        "else:\n",
        "    print(\"product not possible\")\n"
      ],
      "metadata": {
        "id": "dZAtj65Q6dzK"
      },
      "execution_count": null,
      "outputs": []
    },
    {
      "cell_type": "code",
      "source": [
        "def qn4(matrix):\n",
        "  rows=len(matrix)\n",
        "  cols=len(matrix[0])\n",
        "\n",
        "\n",
        "  transpose=[]\n",
        "  for i in range(cols):\n",
        "    row=[]\n",
        "    for j in range(rows):\n",
        "      row.append(matrix[j][i])\n",
        "    transpose.append(row)\n",
        "  print(transpose)\n",
        "\n",
        "rows=int(input(\"enter number of rows \\n\"))\n",
        "cols=int(input(\"enter number of columns \\n\"))\n",
        "matrix=[]\n",
        "for i in range(rows):\n",
        "  row=[]\n",
        "  for j in range(cols):\n",
        "    row.append(int(input()))\n",
        "  matrix.append(row)\n",
        "qn4(matrix)\n"
      ],
      "metadata": {
        "colab": {
          "base_uri": "https://localhost:8080/"
        },
        "id": "fiD6crXCz_sz",
        "outputId": "1428ed32-8052-4e79-8c9e-b436e4a5b0a5"
      },
      "execution_count": 13,
      "outputs": [
        {
          "output_type": "stream",
          "name": "stdout",
          "text": [
            "enter number of rows \n",
            "2\n",
            "enter number of columns \n",
            "3\n",
            "1\n",
            "2\n",
            "3\n",
            "4\n",
            "5\n",
            "6\n",
            "[[1, 4], [2, 5], [3, 6]]\n"
          ]
        }
      ]
    },
    {
      "cell_type": "code",
      "source": [],
      "metadata": {
        "id": "rRl5CPP97nQJ"
      },
      "execution_count": null,
      "outputs": []
    }
  ]
}