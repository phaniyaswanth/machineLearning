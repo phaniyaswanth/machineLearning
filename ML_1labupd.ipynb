{
  "nbformat": 4,
  "nbformat_minor": 0,
  "metadata": {
    "colab": {
      "provenance": []
    },
    "kernelspec": {
      "name": "python3",
      "display_name": "Python 3"
    },
    "language_info": {
      "name": "python"
    }
  },
  "cells": [
    {
      "cell_type": "code",
      "execution_count": 1,
      "metadata": {
        "colab": {
          "base_uri": "https://localhost:8080/"
        },
        "id": "ya5UPqlC5K0E",
        "outputId": "663fda23-960f-40c9-b654-1c5fc363cdb0"
      },
      "outputs": [
        {
          "output_type": "stream",
          "name": "stdout",
          "text": [
            "Enter a string machine\n",
            "Number of vowels :  3\n",
            "Number of consonants :  4\n"
          ]
        }
      ],
      "source": [
        "#Question 1\n",
        "def count(s):\n",
        "    v = 0\n",
        "    c = 0\n",
        "    for i in s:\n",
        "        if i in ['a','e','i','o','u']:\n",
        "            v = v+1\n",
        "        else:\n",
        "            c = c+1\n",
        "    return v,c\n",
        "\n",
        "s = input(\"Enter a string \")\n",
        "v,c = (count(s))\n",
        "print(\"Number of vowels : \",v)\n",
        "print('Number of consonants : ',c)"
      ]
    },
    {
      "cell_type": "code",
      "source": [
        "#Question2\n",
        "def mult():\n",
        "\n",
        "    r1 = int(input('Enter number of rows for m1: '))\n",
        "    c1 = int(input('Enter number of columns for m1: '))\n",
        "    r2 = int(input('Enter number of rows for m2: '))\n",
        "    c2 = int(input('Enter number of columns for m2: '))\n",
        "\n",
        "    if c1 != r2:\n",
        "        print(\"Error: Number of columns of m1 must be equal to number of rows of m2\")\n",
        "        return\n",
        "\n",
        "    print(\"Enter elements for matrix m1:\")\n",
        "    m1 = []\n",
        "    for i in range(r1):\n",
        "        a = []\n",
        "        for j in range(c1):\n",
        "            v = int(input())\n",
        "            a.append(v)\n",
        "        m1.append(a)\n",
        "\n",
        "    print(\"Enter elements for matrix m2:\")\n",
        "    m2 = []\n",
        "    for i in range(r2):\n",
        "        row = []\n",
        "        for j in range(c2):\n",
        "            v = int(input())\n",
        "            row.append(v)\n",
        "        m2.append(row)\n",
        "\n",
        "    result = [[0 for _ in range(c2)] for _ in range(r1)]\n",
        "\n",
        "    for i in range(r1):\n",
        "        for j in range(c2):\n",
        "            sum = 0\n",
        "            for k in range(c1):\n",
        "                sum += m1[i][k] * m2[k][j]\n",
        "            result[i][j] = sum\n",
        "\n",
        "    print(\"Result of matrix multiplication:\")\n",
        "    for row in result:\n",
        "        print(row)\n",
        "\n",
        "mult()"
      ],
      "metadata": {
        "colab": {
          "base_uri": "https://localhost:8080/"
        },
        "id": "zOdgbb8A5NEY",
        "outputId": "5c5337c7-28dd-4910-991f-04b13e9bf959"
      },
      "execution_count": 2,
      "outputs": [
        {
          "output_type": "stream",
          "name": "stdout",
          "text": [
            "Enter number of rows for m1: 3\n",
            "Enter number of columns for m1: 4\n",
            "Enter number of rows for m2: 5\n",
            "Enter number of columns for m2: 4\n",
            "Error: Number of columns of m1 must be equal to number of rows of m2\n"
          ]
        }
      ]
    },
    {
      "cell_type": "code",
      "source": [
        "#Question 3\n",
        "def common():\n",
        "    l1 = []\n",
        "    l2 = []\n",
        "    s1 = int(input(\"Enter size of list 1 \"))\n",
        "    s2 = int(input('Enter size of list 2 '))\n",
        "\n",
        "    for i in range(s1):\n",
        "        v = int(input())\n",
        "        l1.append(v)\n",
        "\n",
        "    for i in range(s2):\n",
        "        v = int(input())\n",
        "        l2.append(v)\n",
        "\n",
        "    l3 = []\n",
        "    for i in l1:\n",
        "        if i in l2:\n",
        "            l3.append(i)\n",
        "\n",
        "    return l3\n",
        "\n",
        "print('The common elements are : ',common())\n",
        "\n"
      ],
      "metadata": {
        "colab": {
          "base_uri": "https://localhost:8080/"
        },
        "id": "KZ2mfKri5bsu",
        "outputId": "93165132-631c-487d-f9d3-28c313b86c04"
      },
      "execution_count": 8,
      "outputs": [
        {
          "output_type": "stream",
          "name": "stdout",
          "text": [
            "Enter size of list 1 2\n",
            "Enter size of list 2 3\n",
            "1\n",
            "2\n",
            "4\n",
            "5\n",
            "2\n",
            "The common elements are :  [2]\n"
          ]
        }
      ]
    },
    {
      "cell_type": "code",
      "source": [
        "\n",
        "\n",
        "#Question 4\n",
        "def transpose():\n",
        "    r = int(input('Enter number of rows'))\n",
        "    c = int(input('Enter number of columns'))\n",
        "    m = []\n",
        "    for i in range(r):\n",
        "        a = []\n",
        "        for j in range(c):\n",
        "            v = int(input())\n",
        "            a.append(v)\n",
        "        m.append(a)\n",
        "    print(m)\n",
        "\n",
        "    t = [[m[i][j] for i in range(r)]for j in range(c)]\n",
        "    for i in range(r):\n",
        "        for j in range(c):\n",
        "            if i != j:\n",
        "                t[i][j]=m[j][i]\n",
        "    return t\n",
        "\n",
        "print(transpose())\n"
      ],
      "metadata": {
        "colab": {
          "base_uri": "https://localhost:8080/"
        },
        "id": "09oVcYe_5fVG",
        "outputId": "766ffb37-f995-4244-fd76-845fe14398c1"
      },
      "execution_count": 10,
      "outputs": [
        {
          "output_type": "stream",
          "name": "stdout",
          "text": [
            "Enter number of rows3\n",
            "Enter number of columns3\n",
            "5\n",
            "8\n",
            "3\n",
            "7\n",
            "9\n",
            "2\n",
            "4\n",
            "6\n",
            "1\n",
            "[[5, 8, 3], [7, 9, 2], [4, 6, 1]]\n",
            "[[5, 7, 4], [8, 9, 6], [3, 2, 1]]\n"
          ]
        }
      ]
    },
    {
      "cell_type": "code",
      "source": [],
      "metadata": {
        "id": "Wc8RhxAq5iAe"
      },
      "execution_count": null,
      "outputs": []
    }
  ]
}